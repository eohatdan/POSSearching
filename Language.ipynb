{
 "cells": [
  {
   "cell_type": "code",
   "execution_count": null,
   "metadata": {
    "collapsed": true
   },
   "outputs": [],
   "source": [
    "def tryit(param)\n",
    "print(\"beans\")\n"
   ]
  },
  {
   "cell_type": "code",
   "execution_count": null,
   "metadata": {
    "collapsed": true
   },
   "outputs": [],
   "source": [
    "tryit(x)"
   ]
  },
  {
   "cell_type": "code",
   "execution_count": null,
   "metadata": {
    "collapsed": true
   },
   "outputs": [],
   "source": [
    "print(\"beans\")"
   ]
  },
  {
   "cell_type": "code",
   "execution_count": 2,
   "metadata": {
    "collapsed": true
   },
   "outputs": [],
   "source": [
    "Param = 'beans'"
   ]
  },
  {
   "cell_type": "code",
   "execution_count": 3,
   "metadata": {
    "collapsed": false
   },
   "outputs": [
    {
     "data": {
      "text/plain": [
       "'beans'"
      ]
     },
     "execution_count": 3,
     "metadata": {},
     "output_type": "execute_result"
    }
   ],
   "source": [
    "Param"
   ]
  },
  {
   "cell_type": "code",
   "execution_count": 4,
   "metadata": {
    "collapsed": false
   },
   "outputs": [
    {
     "ename": "SyntaxError",
     "evalue": "invalid syntax (<ipython-input-4-4c9d43347a78>, line 1)",
     "output_type": "error",
     "traceback": [
      "\u001b[1;36m  File \u001b[1;32m\"<ipython-input-4-4c9d43347a78>\"\u001b[1;36m, line \u001b[1;32m1\u001b[0m\n\u001b[1;33m    def tryit()\u001b[0m\n\u001b[1;37m               ^\u001b[0m\n\u001b[1;31mSyntaxError\u001b[0m\u001b[1;31m:\u001b[0m invalid syntax\n"
     ]
    }
   ],
   "source": [
    "def tryit()\n",
    "print(\"beans\")"
   ]
  },
  {
   "cell_type": "code",
   "execution_count": 128,
   "metadata": {
    "collapsed": true
   },
   "outputs": [],
   "source": [
    "def sentence():\n",
    "    result = \"<sentence>\"\n",
    "    #  result = result + subject(articlex=\"the\", adjectivex=\"big\", nounx=\"dog\")\n",
    "    result = result + subject(pronounx='she')\n",
    "    result = result + predicate(verbx = 'bit',pronounx='me',adverbx=('quickly'))\n",
    "    result = result + \"</sentence>\"\n",
    "    return result"
   ]
  },
  {
   "cell_type": "code",
   "execution_count": 129,
   "metadata": {
    "collapsed": false
   },
   "outputs": [
    {
     "name": "stdout",
     "output_type": "stream",
     "text": [
      "Entering subject:    she\n",
      "Entering pronoun:she  \n",
      "<pronoun\n",
      "<pronoun>she\n",
      "Entering pronoun:me  \n",
      "<pronoun\n",
      "<pronoun>me\n",
      "<sentence><subject><pronoun>she</pronoun></subject><predicate><verbPhrase><adverb>quickly</adverb><verb>bit</verb></verbPhrase><objectPhrase><pronoun>me</pronoun></objectPhrase></predicate></sentence>\n"
     ]
    }
   ],
   "source": [
    "print(sentence())"
   ]
  },
  {
   "cell_type": "code",
   "execution_count": 124,
   "metadata": {
    "collapsed": true
   },
   "outputs": [],
   "source": [
    "def subject(articlex='',adjectivex='',nounx='',pronounx=''):\n",
    "    # print(\"Entering subject: \" + articlex + ' ' + adjectivex + ' ' + nounx + ' ' + pronounx)\n",
    "    result = \"<subject>\"\n",
    "    if nounx != '':\n",
    "        result = result + nounPhrase(articlex=articlex,adjectivex=adjectivex,nounx=nounx)\n",
    "    if pronounx != '':\n",
    "        result = result + pronoun(pronounx=pronounx)\n",
    "    result = result + \"</subject>\"\n",
    "    return result"
   ]
  },
  {
   "cell_type": "code",
   "execution_count": 90,
   "metadata": {
    "collapsed": true
   },
   "outputs": [],
   "source": [
    "def predicate(adverbx='',verbx='',nounx='',pronounx='',articlex='',adjectivex=''):\n",
    "    result = \"<predicate>\"\n",
    "   \n",
    "        \n",
    "    if verbx != '':\n",
    "        result = result + verbPhrase(adverbx=adverbx,verbx=verbx)\n",
    "    if nounx != '':\n",
    "        result = result + objectPhrase(nounx='',pronounx='',articlex='',adjectivex='')\n",
    "    if pronounx != '':\n",
    "        result = result + objectPhrase(pronounx=pronounx)\n",
    "    result = result + \"</predicate>\"\n",
    "    return result"
   ]
  },
  {
   "cell_type": "code",
   "execution_count": 73,
   "metadata": {
    "collapsed": true
   },
   "outputs": [],
   "source": [
    "def objectPhrase(articlex=\"\",adjectivex=\"\",nounx=\"\",pronounx=\"\"):\n",
    "    result=\"<objectPhrase>\"\n",
    "    if nounx != '':\n",
    "        result = result + nounPhrase(articlex, adjectivex, nounx)\n",
    "    if pronounx != '':\n",
    "        result = result + pronoun(pronounx)\n",
    "    result = result + \"</objectPhrase>\"\n",
    "    return result"
   ]
  },
  {
   "cell_type": "code",
   "execution_count": 72,
   "metadata": {
    "collapsed": false
   },
   "outputs": [],
   "source": [
    "def nounPhrase(articlex=\"\",adjectivex=\"\",nounx=\"\"):\n",
    "    result = \"<nounPhrase>\"\n",
    "    if articlex != '':\n",
    "        result = result + article(articlex)\n",
    "    if adjectivex != '':\n",
    "        result = result + adjective(adjectivex)\n",
    "    if nounx != '':\n",
    "        result = result + noun(nounx)\n",
    "    result = result + \"</nounPhrase>\"\n",
    "    return result"
   ]
  },
  {
   "cell_type": "code",
   "execution_count": 13,
   "metadata": {
    "collapsed": true
   },
   "outputs": [],
   "source": [
    "def noun(text, number=\"\",gender=\"\"):\n",
    "    result = \"<noun\"\n",
    "    if number != '':\n",
    "        result = result + \" number='\" + number + \"'\"\n",
    "    if gender != '':\n",
    "        result = result + \" gender='\" + gender + \"'\"\n",
    "    result = result + \">\" + text + \"</noun>\"\n",
    "    return result  "
   ]
  },
  {
   "cell_type": "code",
   "execution_count": 134,
   "metadata": {
    "collapsed": false
   },
   "outputs": [],
   "source": [
    "def pronoun(pronounx=\"\", numberx=\"\",genderx=\"\"):\n",
    "    # print('Entering pronoun:' + pronounx + ' ' + numberx + ' ' + genderx )  # Debug.\n",
    "    result = \"<pronoun\"\n",
    "    if numberx != '':\n",
    "        result = result + \" number='\" + numberx + \"'\"\n",
    "    if genderx != '':\n",
    "        result = result + \" gender='\" + genderx + \"'\"\n",
    "    result = result + \">\"\n",
    "    if pronounx != '':\n",
    "        result = result + pronounx \n",
    "    result = result + \"</pronoun>\"\n",
    "    return result"
   ]
  },
  {
   "cell_type": "code",
   "execution_count": 135,
   "metadata": {
    "collapsed": false,
    "scrolled": true
   },
   "outputs": [
    {
     "data": {
      "text/plain": [
       "\"<pronoun gender='F'>she</pronoun>\""
      ]
     },
     "execution_count": 135,
     "metadata": {},
     "output_type": "execute_result"
    }
   ],
   "source": [
    "pronoun(pronounx='she',genderx='F')"
   ]
  },
  {
   "cell_type": "code",
   "execution_count": 15,
   "metadata": {
    "collapsed": true
   },
   "outputs": [],
   "source": [
    "def article(text, number=\"\",gender=\"\"):\n",
    "    result = \"<article\"\n",
    "    if number != '':\n",
    "        result = result + \" number='\" + number + \"'\"\n",
    "    if gender != '':\n",
    "        result = result + \" gender='\" + gender + \"'\"\n",
    "    result = result + \">\" + text + \"</article>\"\n",
    "    return result"
   ]
  },
  {
   "cell_type": "code",
   "execution_count": 16,
   "metadata": {
    "collapsed": true
   },
   "outputs": [],
   "source": [
    "def adjective(text, number=\"\",gender=\"\"):\n",
    "    result = \"<adjective\"\n",
    "    if number != '':\n",
    "        result = result + \" number='\" + number + \"'\"\n",
    "    if gender != '':\n",
    "        result = result + \" gender='\" + gender + \"'\"\n",
    "    result = result + \">\" + text + \"</adjective>\"\n",
    "    return result"
   ]
  },
  {
   "cell_type": "code",
   "execution_count": 24,
   "metadata": {
    "collapsed": true
   },
   "outputs": [],
   "source": []
  },
  {
   "cell_type": "code",
   "execution_count": 32,
   "metadata": {
    "collapsed": true
   },
   "outputs": [],
   "source": [
    "def verbPhrase(adverbx=\"\",modalx=\"\",verbx=\"\"):\n",
    "    result = \"<verbPhrase>\"\n",
    "    if adverbx != '':\n",
    "        result = result + adverb(adverbx)\n",
    "    if modalx != '':\n",
    "        result = result + modal(modalx)\n",
    "    if verbx != '':\n",
    "        result = result + verb(verbx)\n",
    "    result = result + \"</verbPhrase>\"\n",
    "    return result"
   ]
  },
  {
   "cell_type": "code",
   "execution_count": null,
   "metadata": {
    "collapsed": true
   },
   "outputs": [],
   "source": [
    "def adverb (text, adverbx=\"\"):\n",
    "    result = \"<adverb>\" + text + \"</adverb>\"\n",
    "    if adverbx != \"\":\n",
    "        result = result + \",\" + adverb(adverbx)\n",
    "    return result"
   ]
  },
  {
   "cell_type": "code",
   "execution_count": 19,
   "metadata": {
    "collapsed": false
   },
   "outputs": [],
   "source": [
    "def modal(text,modalx=\"\"):\n",
    "    result = \"<modal>\" + text + \"</modal>\"\n",
    "    if modalx != '':\n",
    "        result = result + modal(modalx)\n",
    "    return result\n",
    "    "
   ]
  },
  {
   "cell_type": "code",
   "execution_count": 20,
   "metadata": {
    "collapsed": false
   },
   "outputs": [],
   "source": [
    "def verb(text, tensex=\"\", moodx =\"\", numberx = \"\", genderx=\"\"):\n",
    "    result = \"<verb\"\n",
    "    if tensex != '':\n",
    "        result = result  + \"tense=\"+tensex\n",
    "    if moodx != '':\n",
    "        result = result + \"mood=\"+ moodx\n",
    "    if numberx != '':\n",
    "        result = result + \"number=\" + numberx\n",
    "    if genderx != '':\n",
    "        result = result + \"gender=\" + genderx\n",
    "    result = result + \">\" + text + \"</verb>\"\n",
    "    return result\n"
   ]
  },
  {
   "cell_type": "code",
   "execution_count": 38,
   "metadata": {
    "collapsed": false
   },
   "outputs": [
    {
     "ename": "SyntaxError",
     "evalue": "invalid syntax (<ipython-input-38-d1200f7a6798>, line 2)",
     "output_type": "error",
     "traceback": [
      "\u001b[0;36m  File \u001b[0;32m\"<ipython-input-38-d1200f7a6798>\"\u001b[0;36m, line \u001b[0;32m2\u001b[0m\n\u001b[0;31m    from\u001b[0m\n\u001b[0m         ^\u001b[0m\n\u001b[0;31mSyntaxError\u001b[0m\u001b[0;31m:\u001b[0m invalid syntax\n"
     ]
    }
   ],
   "source": [
    "import lxml.etree\n",
    "from "
   ]
  },
  {
   "cell_type": "code",
   "execution_count": 37,
   "metadata": {
    "collapsed": false
   },
   "outputs": [
    {
     "ename": "SyntaxError",
     "evalue": "invalid syntax (<ipython-input-37-b01cf1bfbcd0>, line 1)",
     "output_type": "error",
     "traceback": [
      "\u001b[0;36m  File \u001b[0;32m\"<ipython-input-37-b01cf1bfbcd0>\"\u001b[0;36m, line \u001b[0;32m1\u001b[0m\n\u001b[0;31m    lxml import etree\u001b[0m\n\u001b[0m              ^\u001b[0m\n\u001b[0;31mSyntaxError\u001b[0m\u001b[0;31m:\u001b[0m invalid syntax\n"
     ]
    }
   ],
   "source": [
    "lxml import etree"
   ]
  },
  {
   "cell_type": "code",
   "execution_count": 117,
   "metadata": {
    "collapsed": true
   },
   "outputs": [],
   "source": [
    "root = etree.XML(sentence())"
   ]
  },
  {
   "cell_type": "code",
   "execution_count": 118,
   "metadata": {
    "collapsed": false
   },
   "outputs": [
    {
     "name": "stdout",
     "output_type": "stream",
     "text": [
      "<sentence>\n",
      "  <nounPhrase>\n",
      "    <article>the</article>\n",
      "    <adjective>big</adjective>\n",
      "    <noun>dog</noun>\n",
      "  </nounPhrase>\n",
      "</sentence>\n",
      "\n"
     ]
    }
   ],
   "source": [
    "print(etree.tostring(root,encoding=\"Unicode\", pretty_print=True))"
   ]
  },
  {
   "cell_type": "code",
   "execution_count": 13,
   "metadata": {
    "collapsed": true
   },
   "outputs": [],
   "source": [
    "## Experiment working with ElementTree and lxml \n",
    "## Create a reference to ElementTree as ET\n",
    "import xml.etree.ElementTree as ET"
   ]
  },
  {
   "cell_type": "code",
   "execution_count": 39,
   "metadata": {
    "collapsed": true
   },
   "outputs": [],
   "source": [
    "## Create a reference to lxml as LT\n",
    "import lxml.etree as LT"
   ]
  },
  {
   "cell_type": "code",
   "execution_count": 80,
   "metadata": {
    "collapsed": true
   },
   "outputs": [],
   "source": [
    "## Using lxml, create a sentence by executing LT.xml on the results of calling user-defined function, sentence().\n",
    "lxml_root = LT.XML(sentence())"
   ]
  },
  {
   "cell_type": "code",
   "execution_count": 52,
   "metadata": {
    "collapsed": false
   },
   "outputs": [],
   "source": [
    "fout = open('sentence001.xml','w')\n",
    "fout.write(sentence())\n",
    "fout.close()"
   ]
  },
  {
   "cell_type": "code",
   "execution_count": 71,
   "metadata": {
    "collapsed": false
   },
   "outputs": [
    {
     "name": "stdout",
     "output_type": "stream",
     "text": [
      "<sentence>\n",
      "  <nounPhrase>\n",
      "    <article>the</article>\n",
      "    <adjective>big</adjective>\n",
      "    <noun>dog</noun>\n",
      "  </nounPhrase>\n",
      "  <verbPhrase>\n",
      "    <verb>bit</verb>\n",
      "  </verbPhrase>\n",
      "  <objectPhrase>\n",
      "    <pronoun>me</pronoun>\n",
      "  </objectPhrase>\n",
      "</sentence>\n",
      "\n"
     ]
    }
   ],
   "source": [
    "print(LT.tostring(lxml_root,encoding=\"Unicode\", pretty_print=True))"
   ]
  },
  {
   "cell_type": "code",
   "execution_count": null,
   "metadata": {
    "collapsed": true
   },
   "outputs": [],
   "source": [
    "for element in lxml_root.iter():\n",
    "    print(\"%s - %s\" % (element.tag, element.text)) "
   ]
  },
  {
   "cell_type": "code",
   "execution_count": 58,
   "metadata": {
    "collapsed": false
   },
   "outputs": [
    {
     "ename": "AttributeError",
     "evalue": "'NoneType' object has no attribute 'text'",
     "output_type": "error",
     "traceback": [
      "\u001b[0;31m---------------------------------------------------------------------------\u001b[0m",
      "\u001b[0;31mAttributeError\u001b[0m                            Traceback (most recent call last)",
      "\u001b[0;32m<ipython-input-58-555af3c43dbc>\u001b[0m in \u001b[0;36m<module>\u001b[0;34m()\u001b[0m\n\u001b[0;32m----> 1\u001b[0;31m \u001b[0mprint\u001b[0m\u001b[1;33m(\u001b[0m\u001b[0mlxml_root\u001b[0m\u001b[1;33m.\u001b[0m\u001b[0mfind\u001b[0m\u001b[1;33m(\u001b[0m\u001b[1;34m'.//subject//noun'\u001b[0m\u001b[1;33m)\u001b[0m\u001b[1;33m.\u001b[0m\u001b[0mtext\u001b[0m\u001b[1;33m)\u001b[0m\u001b[1;33m\u001b[0m\u001b[0m\n\u001b[0m",
      "\u001b[0;31mAttributeError\u001b[0m: 'NoneType' object has no attribute 'text'"
     ]
    }
   ],
   "source": [
    "print(lxml_root.find('.//subject//noun').text)"
   ]
  },
  {
   "cell_type": "code",
   "execution_count": 79,
   "metadata": {
    "collapsed": false
   },
   "outputs": [],
   "source": [
    "from xml.etree.ElementTree import ElementTree\n",
    "tree = ElementTree()\n",
    "xmlstr = LT.tostring(lxml_root,encoding='Unicode') # Using lxml, create a string version of 'sentence'"
   ]
  },
  {
   "cell_type": "code",
   "execution_count": 80,
   "metadata": {
    "collapsed": false
   },
   "outputs": [
    {
     "data": {
      "text/plain": [
       "'<nounPhrase><article>the</article><adjective>big</adjective><noun>dog</noun></nounPhrase>'"
      ]
     },
     "execution_count": 80,
     "metadata": {},
     "output_type": "execute_result"
    }
   ],
   "source": [
    "xmlstr"
   ]
  },
  {
   "cell_type": "code",
   "execution_count": null,
   "metadata": {
    "collapsed": true
   },
   "outputs": [],
   "source": [
    "ET_root = ET.fromstring(xmlstr) # Create a tree in ElementTree from the string version of 'sentence'."
   ]
  },
  {
   "cell_type": "code",
   "execution_count": 103,
   "metadata": {
    "collapsed": false
   },
   "outputs": [
    {
     "name": "stdout",
     "output_type": "stream",
     "text": [
      "the\n",
      "big\n",
      "dog\n"
     ]
    }
   ],
   "source": [
    "for child in ET_root:\n",
    "    print(child.text)"
   ]
  },
  {
   "cell_type": "code",
   "execution_count": 87,
   "metadata": {
    "collapsed": false
   },
   "outputs": [
    {
     "data": {
      "text/plain": [
       "<xml.etree.ElementTree.ElementTree at 0x1f79ee4d828>"
      ]
     },
     "execution_count": 87,
     "metadata": {},
     "output_type": "execute_result"
    }
   ],
   "source": [
    "tree"
   ]
  },
  {
   "cell_type": "code",
   "execution_count": 114,
   "metadata": {
    "collapsed": false
   },
   "outputs": [],
   "source": [
    "for child in ET_root.findall('nounPhrase'):\n",
    "    noun = child.find('noun').text\n",
    "    print(noun)"
   ]
  },
  {
   "cell_type": "code",
   "execution_count": null,
   "metadata": {
    "collapsed": true
   },
   "outputs": [],
   "source": []
  }
 ],
 "metadata": {
  "kernelspec": {
   "display_name": "Python 3",
   "language": "python",
   "name": "python3"
  },
  "language_info": {
   "codemirror_mode": {
    "name": "ipython",
    "version": 3
   },
   "file_extension": ".py",
   "mimetype": "text/x-python",
   "name": "python",
   "nbconvert_exporter": "python",
   "pygments_lexer": "ipython3",
   "version": "3.6.0"
  }
 },
 "nbformat": 4,
 "nbformat_minor": 2
}
